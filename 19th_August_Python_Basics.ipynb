{
 "cells": [
  {
   "cell_type": "markdown",
   "id": "266a261a-7f9d-4ab1-a3e1-8d498eea26bf",
   "metadata": {},
   "source": [
    "## TOPIC: Python Basics Variable"
   ]
  },
  {
   "cell_type": "markdown",
   "id": "4dae9269-f4d6-4d55-be56-98c0027dc2dc",
   "metadata": {},
   "source": [
    "#### 1. Declare two variables, `x` and `y`, and assign them integer values.Swap the values of these variables without using any temporary variable."
   ]
  },
  {
   "cell_type": "code",
   "execution_count": 1,
   "id": "3f5596a9-d047-45fe-863b-de33f481a8f2",
   "metadata": {},
   "outputs": [
    {
     "name": "stdout",
     "output_type": "stream",
     "text": [
      "x= 10  y= 20\n",
      "Afetr swapping\n",
      "x= 20  y= 10\n"
     ]
    }
   ],
   "source": [
    "x,y=10,20\n",
    "print(\"x=\",x,\" y=\",y)\n",
    "\n",
    "print(\"Afetr swapping\")\n",
    "x,y=y,x\n",
    "print(\"x=\",x,\" y=\",y)"
   ]
  },
  {
   "cell_type": "markdown",
   "id": "6ea32b4b-2b03-43f5-abf6-8174dbadb954",
   "metadata": {},
   "source": [
    "#### 2. Create a program that calculates the area of a rectangle. Take the length and width as inputs from the user and store them in variables. Calculate and display the area."
   ]
  },
  {
   "cell_type": "code",
   "execution_count": 2,
   "id": "28442124-46e9-43c6-8aac-cc41b27c93ac",
   "metadata": {},
   "outputs": [
    {
     "name": "stdout",
     "output_type": "stream",
     "text": [
      "enter the Length of rectangle:\n"
     ]
    },
    {
     "name": "stdin",
     "output_type": "stream",
     "text": [
      " 10\n"
     ]
    },
    {
     "name": "stdout",
     "output_type": "stream",
     "text": [
      "enter the width of rectangle:\n"
     ]
    },
    {
     "name": "stdin",
     "output_type": "stream",
     "text": [
      " 20\n"
     ]
    },
    {
     "name": "stdout",
     "output_type": "stream",
     "text": [
      "Area of rectangle is: 200.0\n"
     ]
    }
   ],
   "source": [
    "print(\"enter the Length of rectangle:\")\n",
    "length=input() \n",
    "print(\"enter the width of rectangle:\")\n",
    "width=input()\n",
    "\n",
    "area= float(length)*float(width)\n",
    "print(\"Area of rectangle is:\",area)"
   ]
  },
  {
   "cell_type": "markdown",
   "id": "84a543a0-1d6f-47d6-9b1d-971f47babb70",
   "metadata": {},
   "source": [
    "#### 3. Write a Python program that converts temperature from Celsius to Fahrenheit. Take the temperature in Celsius as input, store it in a variable, convert it to Fahrenheit, and display the result."
   ]
  },
  {
   "cell_type": "code",
   "execution_count": 13,
   "id": "dfd42ec9-8d09-46ea-a963-ef3a031dc40e",
   "metadata": {},
   "outputs": [
    {
     "name": "stdout",
     "output_type": "stream",
     "text": [
      "Enter temperature in celsius:\n"
     ]
    },
    {
     "name": "stdin",
     "output_type": "stream",
     "text": [
      " 1\n"
     ]
    },
    {
     "name": "stdout",
     "output_type": "stream",
     "text": [
      "temperature in fahrenheit is : 33.8\n"
     ]
    }
   ],
   "source": [
    "print(\"Enter temperature in celsius:\")\n",
    "celsius= input()\n",
    "fahrenheit=float(celsius) * 9/5 + 32\n",
    "print(\"temperature in fahrenheit is :\",fahrenheit)"
   ]
  },
  {
   "cell_type": "markdown",
   "id": "e84402d2-01a0-473b-baef-ecd5bf160e96",
   "metadata": {},
   "source": [
    "## TOPIC: String Based Questions"
   ]
  },
  {
   "cell_type": "markdown",
   "id": "c28c8328-0909-45b5-8ca3-916b537dcf2d",
   "metadata": {},
   "source": [
    "#### 1. Write a Python program that takes a string as input and prints the length of the string."
   ]
  },
  {
   "cell_type": "code",
   "execution_count": 3,
   "id": "cf93709b-faf7-4195-8788-b67e592cedeb",
   "metadata": {},
   "outputs": [
    {
     "name": "stdout",
     "output_type": "stream",
     "text": [
      "Enter any string\n"
     ]
    },
    {
     "name": "stdin",
     "output_type": "stream",
     "text": [
      " akhil\n"
     ]
    },
    {
     "name": "stdout",
     "output_type": "stream",
     "text": [
      "Input string length is: 5\n"
     ]
    }
   ],
   "source": [
    "print(\"Enter any string\")\n",
    "st=input()\n",
    "print(\"Input string length is:\",len(st))"
   ]
  },
  {
   "cell_type": "markdown",
   "id": "ffc9b5a9-3eb1-4bae-a613-e046a5a9add4",
   "metadata": {},
   "source": [
    "#### 2. Create a program that takes a sentence from the user and counts the number of vowels (a, e, i, o, u) in the string."
   ]
  },
  {
   "cell_type": "code",
   "execution_count": 4,
   "id": "7ed077c1-246e-4c6b-b39c-a3ceab8f93e4",
   "metadata": {},
   "outputs": [
    {
     "name": "stdout",
     "output_type": "stream",
     "text": [
      "Enter any string\n"
     ]
    },
    {
     "name": "stdin",
     "output_type": "stream",
     "text": [
      " akhil\n"
     ]
    },
    {
     "name": "stdout",
     "output_type": "stream",
     "text": [
      "number of vowels (a, e, i, o, u) in the string:( 1 , 0 , 1 , 0 , 0 ) =  2\n"
     ]
    }
   ],
   "source": [
    "print(\"Enter any string\")\n",
    "st=input()\n",
    "a=st.lower().count('a')\n",
    "e=st.lower().count('e')\n",
    "i=st.lower().count('i')\n",
    "o=st.lower().count('o')\n",
    "u=st.lower().count('u')\n",
    "\n",
    "print(\"number of vowels (a, e, i, o, u) in the string:(\",a,\",\",e,\",\",i,\",\",o,\",\",u,\") = \",a+e+i+o+u)"
   ]
  },
  {
   "cell_type": "markdown",
   "id": "48473e82-1714-4c7d-8b36-4ff3e1380ffb",
   "metadata": {},
   "source": [
    "#### 3. Given a string, reverse the order of characters using string slicing and print the reversed string.\n"
   ]
  },
  {
   "cell_type": "code",
   "execution_count": 6,
   "id": "115fea2e-4b29-4216-8d31-2b717b458ac0",
   "metadata": {},
   "outputs": [
    {
     "name": "stdout",
     "output_type": "stream",
     "text": [
      "Enter any string\n"
     ]
    },
    {
     "name": "stdin",
     "output_type": "stream",
     "text": [
      " akhil\n"
     ]
    },
    {
     "name": "stdout",
     "output_type": "stream",
     "text": [
      "' lihka '\n"
     ]
    }
   ],
   "source": [
    "print(\"Enter any string\")\n",
    "st=input()\n",
    "rev_str=st[::-1]\n",
    "print(\"'\",rev_str,\"'\")\n"
   ]
  },
  {
   "cell_type": "markdown",
   "id": "3b0a82c1-8071-46bc-9d32-1e8b57e48c0b",
   "metadata": {},
   "source": [
    "#### 4. Write a program that takes a string as input and checks if it is a palindrome (reads the same forwards and backwards).\n"
   ]
  },
  {
   "cell_type": "code",
   "execution_count": 7,
   "id": "615a46d1-fc13-4c70-8ae3-d892c1f1c448",
   "metadata": {},
   "outputs": [
    {
     "name": "stdout",
     "output_type": "stream",
     "text": [
      "Enter any string\n"
     ]
    },
    {
     "name": "stdin",
     "output_type": "stream",
     "text": [
      " asdfdsa\n"
     ]
    },
    {
     "name": "stdout",
     "output_type": "stream",
     "text": [
      "Palindrome= True\n"
     ]
    }
   ],
   "source": [
    "print(\"Enter any string\")\n",
    "st=input()\n",
    "rev_str=st[::-1]\n",
    "print(\"Palindrome=\", st==rev_str)\n"
   ]
  },
  {
   "cell_type": "markdown",
   "id": "17e6c626-9016-4d17-a5d6-3e3994afdf70",
   "metadata": {},
   "source": [
    "#### 5. Create a program that takes a string as input and removes all the spaces from it. Print the modified string without spaces"
   ]
  },
  {
   "cell_type": "code",
   "execution_count": 8,
   "id": "702b559b-212a-41d4-a703-b3b5f601104a",
   "metadata": {},
   "outputs": [
    {
     "name": "stdout",
     "output_type": "stream",
     "text": [
      "Enter any string\n"
     ]
    },
    {
     "name": "stdin",
     "output_type": "stream",
     "text": [
      " asdf f jgh k\n"
     ]
    },
    {
     "name": "stdout",
     "output_type": "stream",
     "text": [
      "asdffjghk\n"
     ]
    }
   ],
   "source": [
    "print(\"Enter any string\")\n",
    "st=input()\n",
    "st2=st.replace(\" \",\"\")\n",
    "print(st2)\n"
   ]
  }
 ],
 "metadata": {
  "kernelspec": {
   "display_name": "Python 3 (ipykernel)",
   "language": "python",
   "name": "python3"
  },
  "language_info": {
   "codemirror_mode": {
    "name": "ipython",
    "version": 3
   },
   "file_extension": ".py",
   "mimetype": "text/x-python",
   "name": "python",
   "nbconvert_exporter": "python",
   "pygments_lexer": "ipython3",
   "version": "3.10.8"
  }
 },
 "nbformat": 4,
 "nbformat_minor": 5
}
