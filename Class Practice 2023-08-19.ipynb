{
 "cells": [
  {
   "cell_type": "code",
   "execution_count": 1,
   "id": "501c0efa-f9e9-4529-929d-bfce2de9cd4b",
   "metadata": {},
   "outputs": [
    {
     "data": {
      "text/plain": [
       "3"
      ]
     },
     "execution_count": 1,
     "metadata": {},
     "output_type": "execute_result"
    }
   ],
   "source": [
    "1+2"
   ]
  },
  {
   "cell_type": "code",
   "execution_count": 13,
   "id": "5e2e10b2-9589-4f4a-8f15-22bc3d94966d",
   "metadata": {},
   "outputs": [
    {
     "name": "stdout",
     "output_type": "stream",
     "text": [
      "99 - <class 'int'>\n",
      "99.9 - <class 'float'>\n",
      "PWSkill - <class 'str'>\n",
      "True - <class 'bool'>\n",
      "(9+3j) - <class 'complex'>\n",
      "3.0 - <class 'float'>\n",
      "9.0 - <class 'float'>\n"
     ]
    }
   ],
   "source": [
    "# Variable & Their Types\n",
    "var=99\n",
    "print(str(var) +' - '+  str(type(var)))\n",
    "\n",
    "var=99.9\n",
    "print(str(var) +' - '+  str(type(var)))\n",
    "\n",
    "var='PWSkill'\n",
    "print(var +' - '+ str(type(var)))\n",
    "\n",
    "var=True\n",
    "print(str(var) +' - '+  str(type(var)))\n",
    "\n",
    "var= 9+ 3j #for complex number 'j' is used for iota instead of 'i'\n",
    "print(str(var) +' - '+  str(type(var)))\n",
    "print(str(var.imag) +' - '+  str(type(var.imag)))\n",
    "print(str(var.real) +' - '+  str(type(var.real)))\n"
   ]
  },
  {
   "cell_type": "code",
   "execution_count": 18,
   "id": "23ce39ae-da08-4bf5-b104-31ae0c818bec",
   "metadata": {},
   "outputs": [
    {
     "name": "stdout",
     "output_type": "stream",
     "text": [
      "* * * Regular assignment * * *\n",
      "10\n",
      "20\n",
      "* * * Grouped assignment * * *\n",
      "25.0\n",
      "* * * Grouped heterogeneous assignment * * *\n",
      "10\n",
      "20.5\n",
      "True\n",
      "Test\n"
     ]
    }
   ],
   "source": [
    "# variable assignment\n",
    "a=10\n",
    "b=20\n",
    "print(\"* * * Regular assignment * * *\")\n",
    "print(a)\n",
    "print(b)\n",
    "\n",
    "a,b,c,d=10,20,30,40\n",
    "print(\"* * * Grouped assignment * * *\")\n",
    "print(a+b*c/d)\n",
    "\n",
    "print(\"* * * Grouped heterogeneous assignment * * *\")\n",
    "a,b,c,d=10,20.5,True,'Test'\n",
    "print(a)\n",
    "print(b)\n",
    "print(c)\n",
    "print(d)"
   ]
  },
  {
   "cell_type": "code",
   "execution_count": 22,
   "id": "1fc8994f-5e39-42af-a837-9d96b6d5d0a4",
   "metadata": {},
   "outputs": [
    {
     "data": {
      "text/plain": [
       "1"
      ]
     },
     "execution_count": 22,
     "metadata": {},
     "output_type": "execute_result"
    }
   ],
   "source": [
    "a=True\n",
    "b=True\n",
    "a*b"
   ]
  },
  {
   "cell_type": "code",
   "execution_count": 28,
   "id": "84e5d615-45a8-4833-b80b-3a9de360606b",
   "metadata": {},
   "outputs": [
    {
     "name": "stdin",
     "output_type": "stream",
     "text": [
      " 1\n",
      " 2\n"
     ]
    },
    {
     "name": "stdout",
     "output_type": "stream",
     "text": [
      "a=1, b=2\n",
      "\n",
      "Swapped\n",
      "a=2, b=1\n"
     ]
    }
   ],
   "source": [
    "a=input()\n",
    "b=input()\n",
    "print('a='+a+', b='+b)\n",
    "\n",
    "a,b=b,a\n",
    "print('\\nSwapped')\n",
    "print('a='+a+', b='+b)"
   ]
  },
  {
   "cell_type": "code",
   "execution_count": 50,
   "id": "71884c7e-acba-420c-b965-51c45135c7d1",
   "metadata": {},
   "outputs": [
    {
     "name": "stdout",
     "output_type": "stream",
     "text": [
      "n\n",
      "x\n",
      "In\n",
      "ex\n",
      "ex\n",
      "ex\n",
      "Idx\n",
      "Idx\n",
      "xednI\n",
      "xednI\n"
     ]
    }
   ],
   "source": [
    "st=\"Index\"\n",
    "print(st[1])\n",
    "print(st[-1])\n",
    "# [start index:end index+1: skip chars]\n",
    "print(st[0:2])\n",
    "print(st[3:5])\n",
    "print(st[3:100])\n",
    "print(st[3:])\n",
    "\n",
    "print(st[0:5:2])\n",
    "print(st[0::2])\n",
    "print(st[4::-1])\n",
    "print(st[::-1])"
   ]
  },
  {
   "cell_type": "code",
   "execution_count": null,
   "id": "a2e8f34f-a799-41d5-be7d-11e31b8236fc",
   "metadata": {},
   "outputs": [],
   "source": []
  },
  {
   "cell_type": "code",
   "execution_count": null,
   "id": "79038675-661e-43d3-b0a3-db14aae6d37c",
   "metadata": {},
   "outputs": [],
   "source": []
  }
 ],
 "metadata": {
  "kernelspec": {
   "display_name": "Python 3 (ipykernel)",
   "language": "python",
   "name": "python3"
  },
  "language_info": {
   "codemirror_mode": {
    "name": "ipython",
    "version": 3
   },
   "file_extension": ".py",
   "mimetype": "text/x-python",
   "name": "python",
   "nbconvert_exporter": "python",
   "pygments_lexer": "ipython3",
   "version": "3.10.8"
  }
 },
 "nbformat": 4,
 "nbformat_minor": 5
}
